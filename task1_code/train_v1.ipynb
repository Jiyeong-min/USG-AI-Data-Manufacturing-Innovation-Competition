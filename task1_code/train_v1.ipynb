{
 "cells": [
  {
   "cell_type": "code",
   "execution_count": 30,
   "metadata": {},
   "outputs": [],
   "source": [
    "import torch\n",
    "import torch.nn as nn\n",
    "import torch.optim as optim\n",
    "from torch.utils.data import DataLoader, Dataset\n",
    "from torchvision import datasets, transforms, models\n",
    "from sklearn.metrics import f1_score\n",
    "import numpy as np\n",
    "import os\n",
    "import pandas as pd\n",
    "from PIL import Image\n",
    "from sklearn.model_selection import train_test_split"
   ]
  },
  {
   "cell_type": "code",
   "execution_count": 31,
   "metadata": {},
   "outputs": [],
   "source": [
    "# 데이터 변환 설정\n",
    "data_transforms = transforms.Compose([\n",
    "    transforms.Resize((224, 224)),\n",
    "    transforms.RandomHorizontalFlip(),\n",
    "    transforms.RandomRotation(10),\n",
    "    transforms.ToTensor(),\n",
    "    transforms.Normalize([0.485, 0.456, 0.406], [0.229, 0.224, 0.225])\n",
    "])\n",
    "\n",
    "# CSV 파일 로드\n",
    "train_labels = pd.read_csv('C:/Users/jymin/OneDrive - UNIST (1)/AI-Factory 경진대회/task1_data/train_labels.csv')\n",
    "\n",
    "# 커스텀 데이터셋 클래스 정의\n",
    "class CustomImageDataset(Dataset):\n",
    "    def __init__(self, labels_df, img_dir, transform=None):\n",
    "        self.labels_df = labels_df\n",
    "        self.img_dir = img_dir\n",
    "        self.transform = transform\n",
    "\n",
    "    def __len__(self):\n",
    "        return len(self.labels_df)\n",
    "\n",
    "    def __getitem__(self, idx):\n",
    "        img_name = os.path.join(self.img_dir, self.labels_df.iloc[idx, 0])  # 이미지 이름 가져오기\n",
    "        image = Image.open(img_name).convert('RGB')\n",
    "        label = self.labels_df.iloc[idx, 1]  # 라벨 가져오기\n",
    "\n",
    "        if self.transform:\n",
    "            image = self.transform(image)\n",
    "\n",
    "        return image, label\n",
    "\n",
    "# 테스트 데이터셋 정의\n",
    "class CustomImageTestDataset(Dataset):\n",
    "    def __init__(self, img_dir, transform=None):\n",
    "        self.img_dir = img_dir\n",
    "        self.transform = transform\n",
    "        self.img_names = os.listdir(img_dir)  # 폴더 내 모든 이미지 파일 이름 목록\n",
    "\n",
    "    def __len__(self):\n",
    "        return len(self.img_names)\n",
    "\n",
    "    def __getitem__(self, idx):\n",
    "        img_name = os.path.join(self.img_dir, self.img_names[idx])  # 이미지 이름 가져오기\n",
    "        image = Image.open(img_name).convert('RGB')\n",
    "\n",
    "        if self.transform:\n",
    "            image = self.transform(image)\n",
    "\n",
    "        return image\n",
    "\n",
    "\n",
    "# 데이터셋 및 데이터로더 생성\n",
    "train_data, val_data = train_test_split(train_labels, test_size=0.2, stratify=train_labels['bad'], random_state=42)\n",
    "\n",
    "train_dataset = CustomImageDataset(labels_df=train_data, img_dir='C:/Users/jymin/OneDrive - UNIST (1)/AI-Factory 경진대회/task1_data/train', transform=data_transforms)\n",
    "val_dataset = CustomImageDataset(labels_df=val_data, img_dir='C:/Users/jymin/OneDrive - UNIST (1)/AI-Factory 경진대회/task1_data/train', transform=data_transforms)\n",
    "test_dataset = CustomImageTestDataset(img_dir='C:/Users/jymin/OneDrive - UNIST (1)/AI-Factory 경진대회/task1_data/test', transform=data_transforms)\n",
    "\n",
    "train_loader = DataLoader(train_dataset, batch_size=32, shuffle=True)\n",
    "val_loader = DataLoader(val_dataset, batch_size=32, shuffle=False)\n",
    "test_loader = DataLoader(test_dataset, batch_size=32, shuffle=False)"
   ]
  },
  {
   "cell_type": "code",
   "execution_count": 32,
   "metadata": {},
   "outputs": [
    {
     "name": "stderr",
     "output_type": "stream",
     "text": [
      "c:\\Users\\jymin\\AppData\\Local\\Programs\\Python\\Python39\\lib\\site-packages\\torchvision\\models\\_utils.py:208: UserWarning: The parameter 'pretrained' is deprecated since 0.13 and may be removed in the future, please use 'weights' instead.\n",
      "  warnings.warn(\n",
      "c:\\Users\\jymin\\AppData\\Local\\Programs\\Python\\Python39\\lib\\site-packages\\torchvision\\models\\_utils.py:223: UserWarning: Arguments other than a weight enum or `None` for 'weights' are deprecated since 0.13 and may be removed in the future. The current behavior is equivalent to passing `weights=ResNet50_Weights.IMAGENET1K_V1`. You can also use `weights=ResNet50_Weights.DEFAULT` to get the most up-to-date weights.\n",
      "  warnings.warn(msg)\n"
     ]
    }
   ],
   "source": [
    "# 사전 훈련된 ResNet50 모델 불러오기\n",
    "model = models.resnet50(pretrained=True)\n",
    "num_ftrs = model.fc.in_features\n",
    "model.fc = nn.Linear(num_ftrs, 2)  # Output layer for binary classification (\"Good\" or \"Bad\")\n",
    "\n",
    "device = torch.device(\"cuda:0\" if torch.cuda.is_available() else \"cpu\")\n",
    "model = model.to(device)"
   ]
  },
  {
   "cell_type": "code",
   "execution_count": 33,
   "metadata": {},
   "outputs": [],
   "source": [
    "# 손실 함수 및 옵티마이저 설정\n",
    "criterion = nn.CrossEntropyLoss()\n",
    "optimizer = optim.Adam(model.parameters(), lr=1e-4)"
   ]
  },
  {
   "cell_type": "code",
   "execution_count": 34,
   "metadata": {},
   "outputs": [],
   "source": [
    "import torch\n",
    "import torch.nn as nn\n",
    "import torch.optim as optim\n",
    "from sklearn.metrics import f1_score\n",
    "import pandas as pd\n",
    "\n",
    "# 모델 학습 함수 (검증 포함)\n",
    "def train_model(model, train_loader, val_loader, criterion, optimizer, num_epochs=20):\n",
    "    best_f1 = 0.0\n",
    "    best_model_wts = model.state_dict()\n",
    "\n",
    "    for epoch in range(num_epochs):\n",
    "        model.train()\n",
    "        running_loss = 0.0\n",
    "        for inputs, labels in train_loader:\n",
    "            inputs, labels = inputs.to(device), labels.to(device)\n",
    "\n",
    "            optimizer.zero_grad()\n",
    "            outputs = model(inputs)\n",
    "            loss = criterion(outputs, labels)\n",
    "            loss.backward()\n",
    "            optimizer.step()\n",
    "            running_loss += loss.item() * inputs.size(0)\n",
    "\n",
    "        # 검증 단계에서 F1-Score 계산\n",
    "        model.eval()\n",
    "        y_true, y_pred = [], []\n",
    "        with torch.no_grad():\n",
    "            for inputs, labels in val_loader:\n",
    "                inputs, labels = inputs.to(device), labels.to(device)\n",
    "                outputs = model(inputs)\n",
    "                _, preds = torch.max(outputs, 1)\n",
    "                y_true.extend(labels.cpu().numpy())\n",
    "                y_pred.extend(preds.cpu().numpy())\n",
    "\n",
    "        # F1-Score 계산 (weighted average)\n",
    "        epoch_f1 = f1_score(y_true, y_pred, average='weighted')\n",
    "        print(f'Epoch {epoch+1}/{num_epochs}, Loss: {running_loss/len(train_loader.dataset):.4f}, Validation F1-Score: {epoch_f1:.4f}')\n",
    "\n",
    "        # Best 모델 저장\n",
    "        if epoch_f1 > best_f1:\n",
    "            best_f1 = epoch_f1\n",
    "            best_model_wts = model.state_dict()\n",
    "\n",
    "    # 최적 모델 반환\n",
    "    model.load_state_dict(best_model_wts)\n",
    "    print(f'Best Validation F1-Score: {best_f1:.4f}')\n",
    "    return model"
   ]
  },
  {
   "cell_type": "code",
   "execution_count": 35,
   "metadata": {},
   "outputs": [
    {
     "name": "stdout",
     "output_type": "stream",
     "text": [
      "Epoch 1/20, Loss: 0.0994, Validation F1-Score: 0.9957\n",
      "Epoch 2/20, Loss: 0.0164, Validation F1-Score: 0.9957\n",
      "Epoch 3/20, Loss: 0.0109, Validation F1-Score: 0.9986\n",
      "Epoch 4/20, Loss: 0.0042, Validation F1-Score: 0.9986\n",
      "Epoch 5/20, Loss: 0.0088, Validation F1-Score: 1.0000\n",
      "Epoch 6/20, Loss: 0.0028, Validation F1-Score: 0.9986\n",
      "Epoch 7/20, Loss: 0.0024, Validation F1-Score: 0.9986\n",
      "Epoch 8/20, Loss: 0.0030, Validation F1-Score: 1.0000\n",
      "Epoch 9/20, Loss: 0.0052, Validation F1-Score: 0.9957\n",
      "Epoch 10/20, Loss: 0.0075, Validation F1-Score: 0.9971\n",
      "Epoch 11/20, Loss: 0.0007, Validation F1-Score: 1.0000\n",
      "Epoch 12/20, Loss: 0.0002, Validation F1-Score: 1.0000\n",
      "Epoch 13/20, Loss: 0.0002, Validation F1-Score: 1.0000\n",
      "Epoch 14/20, Loss: 0.0002, Validation F1-Score: 1.0000\n",
      "Epoch 15/20, Loss: 0.0001, Validation F1-Score: 0.9986\n",
      "Epoch 16/20, Loss: 0.0001, Validation F1-Score: 1.0000\n",
      "Epoch 17/20, Loss: 0.0001, Validation F1-Score: 1.0000\n",
      "Epoch 18/20, Loss: 0.0000, Validation F1-Score: 1.0000\n",
      "Epoch 19/20, Loss: 0.0000, Validation F1-Score: 1.0000\n",
      "Epoch 20/20, Loss: 0.0000, Validation F1-Score: 1.0000\n",
      "Best Validation F1-Score: 1.0000\n"
     ]
    }
   ],
   "source": [
    "# 모델 학습 실행\n",
    "model = train_model(model, train_loader, val_loader, criterion, optimizer, num_epochs=20)"
   ]
  },
  {
   "cell_type": "code",
   "execution_count": 37,
   "metadata": {},
   "outputs": [
    {
     "name": "stdout",
     "output_type": "stream",
     "text": [
      "Test predictions saved to 'test_predictions.csv'\n"
     ]
    }
   ],
   "source": [
    "# 모델을 평가 모드로 설정\n",
    "model.eval()\n",
    "all_preds = []\n",
    "test_filenames = test_loader.dataset.img_names\n",
    "\n",
    "with torch.no_grad():\n",
    "    for inputs in test_loader:\n",
    "        inputs = inputs.to(device)\n",
    "        outputs = model(inputs)\n",
    "        _, preds = torch.max(outputs, 1)\n",
    "        all_preds.extend(preds.cpu().numpy())\n",
    "\n",
    "# 테스트 예측 결과를 DataFrame으로 저장\n",
    "preds_df = pd.DataFrame({'file_name': test_filenames, 'bad': all_preds})\n",
    "output_path = 'C:/Users/jymin/OneDrive - UNIST (1)/AI-Factory 경진대회/task1_data/test_predictions.csv'\n",
    "preds_df.to_csv(output_path, index=False)\n",
    "\n",
    "print(\"Test predictions saved to 'test_predictions.csv'\")"
   ]
  },
  {
   "cell_type": "code",
   "execution_count": null,
   "metadata": {},
   "outputs": [],
   "source": []
  },
  {
   "cell_type": "code",
   "execution_count": null,
   "metadata": {},
   "outputs": [],
   "source": []
  }
 ],
 "metadata": {
  "kernelspec": {
   "display_name": "Python 3",
   "language": "python",
   "name": "python3"
  },
  "language_info": {
   "codemirror_mode": {
    "name": "ipython",
    "version": 3
   },
   "file_extension": ".py",
   "mimetype": "text/x-python",
   "name": "python",
   "nbconvert_exporter": "python",
   "pygments_lexer": "ipython3",
   "version": "3.9.13"
  }
 },
 "nbformat": 4,
 "nbformat_minor": 2
}
